{
 "cells": [
  {
   "cell_type": "code",
   "execution_count": 29,
   "id": "39876dd6",
   "metadata": {},
   "outputs": [],
   "source": [
    "class Item():\n",
    "    def __init__(self, lvl):\n",
    "        self.lvl = int(lvl)\n",
    "        \n",
    "    def __str__(self):\n",
    "        return f'Item {self.lvl}'\n",
    "    \n",
    "    def __repr__(self):\n",
    "        return str(self)\n",
    "        \n",
    "class Monkey():\n",
    "    def __init__(self, data):\n",
    "        \n",
    "        self.num = 0\n",
    "        self.items = []\n",
    "        self.operation = ''\n",
    "        self.testval = 1\n",
    "        self.target = {True: 0, False: 0}\n",
    "        \n",
    "        self.n_inspected = 0\n",
    "        \n",
    "        # Now parse the input\n",
    "        self.num = data[0][1].replace(':', '')\n",
    "        for itemlvl in data[1][2:]:\n",
    "            self.items.append(Item(itemlvl.replace(',', '')))\n",
    "        \n",
    "        self.operation = ' '.join(data[2][3:])\n",
    "        \n",
    "        self.testval = int(data[3][3])\n",
    "        \n",
    "        self.target[True] = int(data[4][5])\n",
    "        self.target[False] = int(data[5][5])\n",
    "        \n",
    "    def __str__(self):\n",
    "        return f'Monkey {self.num}, insp {self.n_inspected}, op: {self.operation}, test {self.testval}, ' \\\n",
    "        f'target: {self.target}, items: {self.items}'\n",
    "    \n",
    "    def __repr__(self):\n",
    "        return str(self)\n",
    "        \n",
    "    def turn(self, monkeys, verb=False):\n",
    "        if verb:\n",
    "            print(f'Monkey {self.num}')\n",
    "        for item in self.items:\n",
    "            if verb:\n",
    "                print(f'  Monkey inspects an item with a worry level of {item.lvl}.')\n",
    "            # Inspect the item\n",
    "            old = item.lvl\n",
    "            new = eval(self.operation)\n",
    "            item.lvl = new // 3\n",
    "            if verb: \n",
    "                print(f'    Worry level is multiplied by {self.operation.split()[2]} to {new}.')\n",
    "                print(f'    Monkey gets bored with item. Worry level is divided by 3 to {item.lvl}.')\n",
    "                print(f'    Current worry level is {\"\" if (item.lvl % self.testval) == 0 else \"not\"} divisible by {self.testval}.')\n",
    "            \n",
    "            target = self.target[(item.lvl % self.testval) == 0]\n",
    "            if verb:\n",
    "                print(f'    Item with worry level {item.lvl} is thrown to monkey {target}')\n",
    "            \n",
    "            monkeys[target].items.append(item)\n",
    "\n",
    "        self.n_inspected += len(self.items)\n",
    "        self.items = []"
   ]
  },
  {
   "cell_type": "code",
   "execution_count": 34,
   "id": "99c7dbc8",
   "metadata": {},
   "outputs": [],
   "source": [
    "monkeys = []\n",
    "with open('input11.txt', 'r') as inf:\n",
    "    data = [l.strip().split() for l in inf]\n",
    "    \n",
    "for i in range(0, len(data)//6):\n",
    "    d = data[i*6+i:]\n",
    "    if d != []:\n",
    "        monkeys.append(Monkey(d))\n",
    "    \n",
    "for i in range(0, 20):\n",
    "    for m in monkeys:\n",
    "        m.turn(monkeys, False)"
   ]
  },
  {
   "cell_type": "code",
   "execution_count": 35,
   "id": "013cb896",
   "metadata": {},
   "outputs": [
    {
     "name": "stdout",
     "output_type": "stream",
     "text": [
      "72884\n"
     ]
    },
    {
     "data": {
      "text/plain": [
       "[11, 132, 142, 144, 145, 148, 266, 274]"
      ]
     },
     "execution_count": 35,
     "metadata": {},
     "output_type": "execute_result"
    }
   ],
   "source": [
    "business = sorted([m.n_inspected for m in monkeys])\n",
    "print(business[-1] * business[-2])"
   ]
  },
  {
   "cell_type": "code",
   "execution_count": null,
   "id": "25c3ed67",
   "metadata": {},
   "outputs": [],
   "source": []
  }
 ],
 "metadata": {
  "kernelspec": {
   "display_name": "Python 3 (ipykernel)",
   "language": "python",
   "name": "python3"
  },
  "language_info": {
   "codemirror_mode": {
    "name": "ipython",
    "version": 3
   },
   "file_extension": ".py",
   "mimetype": "text/x-python",
   "name": "python",
   "nbconvert_exporter": "python",
   "pygments_lexer": "ipython3",
   "version": "3.10.4"
  }
 },
 "nbformat": 4,
 "nbformat_minor": 5
}
