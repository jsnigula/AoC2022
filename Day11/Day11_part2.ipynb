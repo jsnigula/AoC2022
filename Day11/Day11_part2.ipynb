{
 "cells": [
  {
   "cell_type": "code",
   "execution_count": null,
   "id": "e9f5d3ff",
   "metadata": {},
   "outputs": [],
   "source": []
  },
  {
   "cell_type": "code",
   "execution_count": 79,
   "id": "b556b32b",
   "metadata": {},
   "outputs": [],
   "source": [
    "class Item():\n",
    "    def __init__(self, lvl):\n",
    "        self.lvl = int(lvl)\n",
    "        self.mods = {}\n",
    "        \n",
    "    def __str__(self):\n",
    "        return f'Item {self.lvl}'\n",
    "    \n",
    "    def __repr__(self):\n",
    "        return str(self)\n",
    "    \n",
    "    def init(self, divs):\n",
    "        for d in divs:\n",
    "            self.mods[d] = self.lvl % d\n",
    "            \n",
    "    def add(self, val):\n",
    "        for d in self.mods:\n",
    "            self.mods[d] += val\n",
    "            self.mods[d] %= d\n",
    "            \n",
    "    def mult(self, val):\n",
    "        for d in self.mods:\n",
    "            self.mods[d] *= val\n",
    "            self.mods[d] %= d\n",
    "        \n",
    "    def square(self):\n",
    "        for d in self.mods:\n",
    "            self.mods[d] *= self.mods[d]\n",
    "            self.mods[d] %= d\n",
    "\n",
    "class Monkey():\n",
    "    def __init__(self, data):\n",
    "        \n",
    "        self.num = 0\n",
    "        self.items = []\n",
    "        self.operator = ''\n",
    "        self.opval = 0\n",
    "        self.testval = 1\n",
    "        self.target = {True: 0, False: 0}\n",
    "        \n",
    "        self.n_inspected = 0\n",
    "        \n",
    "        # Now parse the input\n",
    "        self.num = data[0][1].replace(':', '')\n",
    "        for itemlvl in data[1][2:]:\n",
    "            self.items.append(Item(itemlvl.replace(',', '')))\n",
    "        \n",
    "        # self.operation = ' '.join(data[2][3:])\n",
    "        self.operator = data[2][4]\n",
    "        self.opval = data[2][5]\n",
    "        \n",
    "        self.testval = int(data[3][3])\n",
    "        \n",
    "        self.target[True] = int(data[4][5])\n",
    "        self.target[False] = int(data[5][5])\n",
    "        \n",
    "    def __str__(self):\n",
    "        return f'Monkey {self.num}, insp {self.n_inspected}, op: {self.operator} {self.opval}, test {self.testval}, ' \\\n",
    "        f'target: {self.target}, items: {self.items}'\n",
    "    \n",
    "    def __repr__(self):\n",
    "        return str(self)\n",
    "    \n",
    "    def init_items(self, divs):\n",
    "        for i in self.items:\n",
    "            i.init(divs)\n",
    "        \n",
    "    def turn(self, monkeys, verb=False):\n",
    "        for item in self.items:\n",
    "            if self.opval == 'old':\n",
    "                item.square()\n",
    "            else:\n",
    "                opval = int(self.opval)\n",
    "                if self.operator == '+':\n",
    "                    item.add(opval)\n",
    "                else: \n",
    "                    item.mult(opval)\n",
    "            \n",
    "            target = self.target[(item.mods[self.testval] == 0)]\n",
    "            \n",
    "            monkeys[target].items.append(item)\n",
    "\n",
    "        self.n_inspected += len(self.items)\n",
    "        self.items = []"
   ]
  },
  {
   "cell_type": "code",
   "execution_count": 82,
   "id": "be3e7f13",
   "metadata": {},
   "outputs": [
    {
     "name": "stdout",
     "output_type": "stream",
     "text": [
      "0\n",
      "1000\n",
      "2000\n",
      "3000\n",
      "4000\n",
      "5000\n",
      "6000\n",
      "7000\n",
      "8000\n",
      "9000\n"
     ]
    }
   ],
   "source": [
    "monkeys = []\n",
    "with open('input11.txt', 'r') as inf:\n",
    "    data = [l.strip().split() for l in inf]\n",
    "    \n",
    "for i in range(0, len(data)//6):\n",
    "    d = data[i*6+i:]\n",
    "    if d != []:\n",
    "        monkeys.append(Monkey(d))\n",
    "    \n",
    "divs = [m.testval for m in monkeys]\n",
    "\n",
    "for m in monkeys:\n",
    "    m.init_items(divs)\n",
    "\n",
    "for i in range(0, 10000):\n",
    "    if i % 1000 == 0:\n",
    "        print(i)\n",
    "    for m in monkeys:\n",
    "        m.turn(monkeys, False)"
   ]
  },
  {
   "cell_type": "code",
   "execution_count": 84,
   "id": "ce736189",
   "metadata": {},
   "outputs": [
    {
     "name": "stdout",
     "output_type": "stream",
     "text": [
      "15310845153\n"
     ]
    }
   ],
   "source": [
    "business = sorted([m.n_inspected for m in monkeys])\n",
    "print(business[-1] * business[-2])"
   ]
  },
  {
   "cell_type": "code",
   "execution_count": null,
   "id": "d26814cf",
   "metadata": {},
   "outputs": [],
   "source": []
  }
 ],
 "metadata": {
  "kernelspec": {
   "display_name": "Python 3 (ipykernel)",
   "language": "python",
   "name": "python3"
  },
  "language_info": {
   "codemirror_mode": {
    "name": "ipython",
    "version": 3
   },
   "file_extension": ".py",
   "mimetype": "text/x-python",
   "name": "python",
   "nbconvert_exporter": "python",
   "pygments_lexer": "ipython3",
   "version": "3.10.4"
  }
 },
 "nbformat": 4,
 "nbformat_minor": 5
}
