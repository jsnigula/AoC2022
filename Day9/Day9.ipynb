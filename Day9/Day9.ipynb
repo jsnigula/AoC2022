{
 "cells": [
  {
   "cell_type": "code",
   "execution_count": 3,
   "id": "b9294735",
   "metadata": {},
   "outputs": [
    {
     "name": "stdout",
     "output_type": "stream",
     "text": [
      "{'D': 2833, 'L': 3149, 'R': 2688, 'U': 2906}\n"
     ]
    }
   ],
   "source": [
    "# Find the absolute maximum we might move in any direction\n",
    "moves = {'D':0, 'L':0, 'R': 0, 'U': 0}\n",
    "with open('input9.txt', 'r') as inf:\n",
    "    for line in inf:\n",
    "        d, l = line.strip().split()\n",
    "        moves[d] += int(l)\n",
    "print(moves)"
   ]
  },
  {
   "cell_type": "code",
   "execution_count": 3,
   "id": "06e8beab",
   "metadata": {},
   "outputs": [],
   "source": [
    "import numpy as np"
   ]
  },
  {
   "cell_type": "code",
   "execution_count": 4,
   "id": "070dbe2b",
   "metadata": {},
   "outputs": [],
   "source": [
    "class Pos():\n",
    "    def __init__(self, x, y):\n",
    "        self.x = x\n",
    "        self.y = y\n",
    "    def __str__(self):\n",
    "        return f'x: {self.x}, y: {self.y}'\n",
    "    def __repr__(self):\n",
    "        return f'x: {self.x}, y: {self.y}'"
   ]
  },
  {
   "cell_type": "code",
   "execution_count": 14,
   "id": "04e3924b",
   "metadata": {},
   "outputs": [],
   "source": [
    "def move(dir, head, tail):\n",
    "    if dir == 'L':\n",
    "        head.x -= 1\n",
    "    elif dir == 'R':\n",
    "        head.x += 1\n",
    "    elif dir == 'U':\n",
    "        head.y += 1\n",
    "    else:  # 'D'\n",
    "        head.y -= 1\n",
    "        \n",
    "    print(head, tail)\n",
    "        \n",
    "    signx = np.sign(head.x - tail.x)\n",
    "    signy = np.sign(head.y - tail.y)\n",
    "    \n",
    "    # Now follow the tail:\n",
    "    if abs(head.x - tail.x) > 1 or abs(head.y - tail.y) > 1:\n",
    "        tail.x += signx\n",
    "        tail.y += signy\n",
    "        map[tail.x,tail.y] = 1     "
   ]
  },
  {
   "cell_type": "code",
   "execution_count": 16,
   "id": "78248222",
   "metadata": {},
   "outputs": [
    {
     "name": "stdout",
     "output_type": "stream",
     "text": [
      "Moving R\n",
      "x: 5001, y: 5000 x: 5000, y: 5000\n",
      "Moving R\n",
      "x: 5002, y: 5000 x: 5000, y: 5000\n",
      "Moving R\n",
      "x: 5003, y: 5000 x: 5001, y: 5000\n",
      "Moving R\n",
      "x: 5004, y: 5000 x: 5002, y: 5000\n",
      "Moving U\n",
      "x: 5004, y: 5001 x: 5003, y: 5000\n",
      "Moving U\n",
      "x: 5004, y: 5002 x: 5003, y: 5000\n",
      "Moving U\n",
      "x: 5004, y: 5003 x: 5004, y: 5001\n",
      "Moving U\n",
      "x: 5004, y: 5004 x: 5004, y: 5002\n",
      "Moving L\n",
      "x: 5003, y: 5004 x: 5004, y: 5003\n",
      "Moving L\n",
      "x: 5002, y: 5004 x: 5004, y: 5003\n",
      "Moving L\n",
      "x: 5001, y: 5004 x: 5003, y: 5004\n",
      "Moving D\n",
      "x: 5001, y: 5003 x: 5002, y: 5004\n",
      "Moving R\n",
      "x: 5002, y: 5003 x: 5002, y: 5004\n",
      "Moving R\n",
      "x: 5003, y: 5003 x: 5002, y: 5004\n",
      "Moving R\n",
      "x: 5004, y: 5003 x: 5002, y: 5004\n",
      "Moving R\n",
      "x: 5005, y: 5003 x: 5003, y: 5003\n",
      "Moving D\n",
      "x: 5005, y: 5002 x: 5004, y: 5003\n",
      "Moving L\n",
      "x: 5004, y: 5002 x: 5004, y: 5003\n",
      "Moving L\n",
      "x: 5003, y: 5002 x: 5004, y: 5003\n",
      "Moving L\n",
      "x: 5002, y: 5002 x: 5004, y: 5003\n",
      "Moving L\n",
      "x: 5001, y: 5002 x: 5003, y: 5002\n",
      "Moving L\n",
      "x: 5000, y: 5002 x: 5002, y: 5002\n",
      "Moving R\n",
      "x: 5001, y: 5002 x: 5001, y: 5002\n",
      "Moving R\n",
      "x: 5002, y: 5002 x: 5001, y: 5002\n",
      "13\n"
     ]
    }
   ],
   "source": [
    "map = np.zeros((10001,10001), int)\n",
    "head = Pos(5000,5000)\n",
    "tail = Pos(5000,5000)\n",
    "with open('input9a.txt', 'r') as inf:\n",
    "    for line in inf:\n",
    "        d, l = line.strip().split()\n",
    "        for i in range(0, int(l)):\n",
    "            print('Moving', d)\n",
    "            move(d, head, tail)\n",
    "            \n",
    "print(np.sum(map)+1)"
   ]
  },
  {
   "cell_type": "code",
   "execution_count": 24,
   "id": "e786fad6",
   "metadata": {},
   "outputs": [],
   "source": [
    "def move_knot(dir, h):\n",
    "    if dir == 'L':\n",
    "        h.x -= 1\n",
    "    elif dir == 'R':\n",
    "        h.x += 1\n",
    "    elif dir == 'U':\n",
    "        h.y += 1\n",
    "    else:  # 'D'\n",
    "        h.y -= 1\n",
    "        \n",
    "def check_knot(h, t, isend):\n",
    "        \n",
    "    # print(h, t)\n",
    "        \n",
    "    signx = np.sign(h.x - t.x)\n",
    "    signy = np.sign(h.y - t.y)\n",
    "    \n",
    "    # Now follow this knot:\n",
    "    if abs(h.x - t.x) > 1 or abs(h.y - t.y) > 1:\n",
    "        t.x += signx\n",
    "        t.y += signy\n",
    "     \n",
    "        if isend:\n",
    "            map[t.x,t.y] = 1\n",
    "    \n",
    "        return True\n",
    "    return False"
   ]
  },
  {
   "cell_type": "code",
   "execution_count": 26,
   "id": "0fd477d4",
   "metadata": {},
   "outputs": [
    {
     "name": "stdout",
     "output_type": "stream",
     "text": [
      "2793\n"
     ]
    }
   ],
   "source": [
    "map = np.zeros((10001,10001), int)\n",
    "rope = [Pos(5000,5000) for i in range(0,10)]\n",
    "with open('input9.txt', 'r') as inf:\n",
    "    for line in inf:\n",
    "        d, l = line.strip().split()\n",
    "        for i in range(0, int(l)):\n",
    "            # print('Moving', d)\n",
    "            move_knot(d, rope[0])\n",
    "            for k in range(0, 9):\n",
    "                # print('Knot', k+1)\n",
    "                if not check_knot(rope[k], rope[k+1], (k==8)):\n",
    "                    # This knot did not move\n",
    "                    break\n",
    "                    \n",
    "print(np.sum(map) + 1)"
   ]
  },
  {
   "cell_type": "code",
   "execution_count": null,
   "id": "3d309035",
   "metadata": {},
   "outputs": [],
   "source": []
  }
 ],
 "metadata": {
  "kernelspec": {
   "display_name": "Python 3 (ipykernel)",
   "language": "python",
   "name": "python3"
  },
  "language_info": {
   "codemirror_mode": {
    "name": "ipython",
    "version": 3
   },
   "file_extension": ".py",
   "mimetype": "text/x-python",
   "name": "python",
   "nbconvert_exporter": "python",
   "pygments_lexer": "ipython3",
   "version": "3.10.4"
  }
 },
 "nbformat": 4,
 "nbformat_minor": 5
}
