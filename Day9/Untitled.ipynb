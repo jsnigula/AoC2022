{
 "cells": [
  {
   "cell_type": "code",
   "execution_count": 3,
   "id": "b9294735",
   "metadata": {},
   "outputs": [
    {
     "name": "stdout",
     "output_type": "stream",
     "text": [
      "{'D': 2833, 'L': 3149, 'R': 2688, 'U': 2906}\n"
     ]
    }
   ],
   "source": [
    "# Find the absolute maximum we might move in any direction\n",
    "moves = {'D':0, 'L':0, 'R': 0, 'U': 0}\n",
    "with open('input9.txt', 'r') as inf:\n",
    "    for line in inf:\n",
    "        d, l = line.strip().split()\n",
    "        moves[d] += int(l)\n",
    "print(moves)"
   ]
  },
  {
   "cell_type": "code",
   "execution_count": 15,
   "id": "06e8beab",
   "metadata": {},
   "outputs": [],
   "source": [
    "import numpy as np\n",
    "from collections import namedtuple"
   ]
  },
  {
   "cell_type": "code",
   "execution_count": 98,
   "id": "070dbe2b",
   "metadata": {},
   "outputs": [],
   "source": [
    "class Pos():\n",
    "    def __init__(self, x, y):\n",
    "        self.x = x\n",
    "        self.y = y\n",
    "    def __str__(self):\n",
    "        return f'x: {self.x}, y: {self.y}'\n",
    "    def __repr__(self):\n",
    "        return f'x: {self.x}, y: {self.y}'"
   ]
  },
  {
   "cell_type": "code",
   "execution_count": 66,
   "id": "4c0ce1cb",
   "metadata": {},
   "outputs": [],
   "source": [
    "head = Pos(5,5)"
   ]
  },
  {
   "cell_type": "code",
   "execution_count": 78,
   "id": "8cc29c3c",
   "metadata": {},
   "outputs": [],
   "source": [
    "tail = [Pos(5,5) for i in range(0,10)]"
   ]
  },
  {
   "cell_type": "code",
   "execution_count": 84,
   "id": "04e3924b",
   "metadata": {},
   "outputs": [],
   "source": [
    "def move(dir, head, tail):\n",
    "    if dir == 'L':\n",
    "        head.x -= 1\n",
    "    elif dir == 'R':\n",
    "        head.x += 1\n",
    "    elif dir == 'U':\n",
    "        head.y += 1\n",
    "    else:  # 'D'\n",
    "        head.y -= 1\n",
    "        \n",
    "    print(head, tail)\n",
    "        \n",
    "    signx = np.sign(head.x - tail.x)\n",
    "    signy = np.sign(head.y - tail.y)\n",
    "    \n",
    "    head\n",
    "    # Now follow the tail:\n",
    "    if abs(head.x - tail.x) <= 1 and abs(head.y - tail.y) <= 1:\n",
    "        pass\n",
    "        \n",
    "    elif head.x == tail.x:\n",
    "        tail.y += signy\n",
    "            \n",
    "    elif head.y == tail.y:\n",
    "        tail.x += signx\n",
    "            \n",
    "    else:\n",
    "        tail.x += signx\n",
    "        tail.y += signy\n",
    "     \n",
    "    map[tail.x,tail.y] = 1"
   ]
  },
  {
   "cell_type": "code",
   "execution_count": null,
   "id": "78248222",
   "metadata": {},
   "outputs": [],
   "source": [
    "map = np.zeros((10001,10001), int)\n",
    "head = Pos(5000,5000)\n",
    "tail = Pos(5000,5000)\n",
    "with open('input9a.txt', 'r') as inf:\n",
    "    for line in inf:\n",
    "        d, l = line.strip().split()\n",
    "        for i in range(0, int(l)):\n",
    "            print('Moving', d)\n",
    "            move(d, head, tail)"
   ]
  },
  {
   "cell_type": "code",
   "execution_count": 117,
   "id": "e786fad6",
   "metadata": {},
   "outputs": [],
   "source": [
    "def move_knot(dir, h):\n",
    "    if dir == 'L':\n",
    "        h.x -= 1\n",
    "    elif dir == 'R':\n",
    "        h.x += 1\n",
    "    elif dir == 'U':\n",
    "        h.y += 1\n",
    "    else:  # 'D'\n",
    "        h.y -= 1\n",
    "        \n",
    "def check_knot(h, t, isend):\n",
    "        \n",
    "    # print(h, t)\n",
    "        \n",
    "    signx = np.sign(h.x - t.x)\n",
    "    signy = np.sign(h.y - t.y)\n",
    "    \n",
    "    # Now follow this knot:\n",
    "    if abs(h.x - t.x) <= 1 and abs(h.y - t.y) <= 1:\n",
    "        return False\n",
    "\n",
    "    if h.x == t.x:\n",
    "        t.y += signy\n",
    "            \n",
    "    elif h.y == t.y:\n",
    "        t.x += signx\n",
    "            \n",
    "    else:\n",
    "        t.x += signx\n",
    "        t.y += signy\n",
    "     \n",
    "    if isend:\n",
    "        map[t.x,t.y] = 1\n",
    "    return True"
   ]
  },
  {
   "cell_type": "code",
   "execution_count": 118,
   "id": "0fd477d4",
   "metadata": {},
   "outputs": [],
   "source": [
    "map = np.zeros((10001,10001), int)\n",
    "#head = Pos(5000,5000)\n",
    "#tail = Pos(5000,5000)\n",
    "rope = [Pos(5000,5000) for i in range(0,10)]\n",
    "with open('input9.txt', 'r') as inf:\n",
    "    for line in inf:\n",
    "        d, l = line.strip().split()\n",
    "        for i in range(0, int(l)):\n",
    "            # print('Moving', d)\n",
    "            move_knot(d, rope[0])\n",
    "            for k in range(0, 9):\n",
    "                # print('Knot', k+1)\n",
    "                if not check_knot(rope[k], rope[k+1], (k==8)):\n",
    "                    # This knot did not move\n",
    "                    break"
   ]
  },
  {
   "cell_type": "code",
   "execution_count": 116,
   "id": "84e250d1",
   "metadata": {},
   "outputs": [
    {
     "data": {
      "text/plain": [
       "35"
      ]
     },
     "execution_count": 116,
     "metadata": {},
     "output_type": "execute_result"
    }
   ],
   "source": [
    "np.sum(map)"
   ]
  },
  {
   "cell_type": "code",
   "execution_count": null,
   "id": "c1e307d8",
   "metadata": {},
   "outputs": [],
   "source": []
  }
 ],
 "metadata": {
  "kernelspec": {
   "display_name": "Python 3 (ipykernel)",
   "language": "python",
   "name": "python3"
  },
  "language_info": {
   "codemirror_mode": {
    "name": "ipython",
    "version": 3
   },
   "file_extension": ".py",
   "mimetype": "text/x-python",
   "name": "python",
   "nbconvert_exporter": "python",
   "pygments_lexer": "ipython3",
   "version": "3.10.4"
  }
 },
 "nbformat": 4,
 "nbformat_minor": 5
}
