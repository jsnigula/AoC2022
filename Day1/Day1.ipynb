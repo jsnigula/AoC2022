{
 "cells": [
  {
   "cell_type": "code",
   "execution_count": 49,
   "id": "79891090",
   "metadata": {},
   "outputs": [],
   "source": [
    "class ElveBag():\n",
    "    def __init__(self, c, inf):\n",
    "        self.count = c\n",
    "        self.cals = 0\n",
    "        nread = 0\n",
    "        for line in inf:\n",
    "            line = line.strip()\n",
    "            nread += 1\n",
    "\n",
    "            if line != '':\n",
    "                self.cals += int(line)\n",
    "            else:\n",
    "                break\n",
    "        if nread == 0:\n",
    "            raise EOFError\n",
    "            \n",
    "    def __lt__(self, other):\n",
    "        return self.cals < other.cals\n",
    "    \n",
    "    def __str__(self):\n",
    "        return f'(Elf {self.count} has {self.cals})'\n",
    "    \n",
    "    def __repr__(self):\n",
    "        return f'(Elf {self.count} has {self.cals})'\n",
    "    "
   ]
  },
  {
   "cell_type": "code",
   "execution_count": 56,
   "id": "de92afa3",
   "metadata": {},
   "outputs": [],
   "source": [
    "elves = []\n",
    "with open('input1.txt', 'r') as inf:\n",
    "    c=1\n",
    "    while True:\n",
    "        try:\n",
    "            elves.append(ElveBag(c, inf))\n",
    "            c += 1\n",
    "        except EOFError:\n",
    "            break"
   ]
  },
  {
   "cell_type": "code",
   "execution_count": 57,
   "id": "dcfaf152",
   "metadata": {},
   "outputs": [
    {
     "data": {
      "text/plain": [
       "236"
      ]
     },
     "execution_count": 57,
     "metadata": {},
     "output_type": "execute_result"
    }
   ],
   "source": [
    "len(elves)"
   ]
  },
  {
   "cell_type": "code",
   "execution_count": 63,
   "id": "178f0f6a",
   "metadata": {},
   "outputs": [],
   "source": [
    "sorted_elves = sorted(elves, reverse=True)"
   ]
  },
  {
   "cell_type": "code",
   "execution_count": 64,
   "id": "02532dc9",
   "metadata": {},
   "outputs": [
    {
     "name": "stdout",
     "output_type": "stream",
     "text": [
      "(Elf 86 has 68787)\n"
     ]
    }
   ],
   "source": [
    "print(sorted_elves[0])"
   ]
  },
  {
   "cell_type": "code",
   "execution_count": 65,
   "id": "3b26dbfd",
   "metadata": {},
   "outputs": [
    {
     "name": "stdout",
     "output_type": "stream",
     "text": [
      "Total cals 198041\n"
     ]
    }
   ],
   "source": [
    "total_cals = 0\n",
    "for e in sorted_elves[0:3]:\n",
    "    total_cals += e.cals\n",
    "    \n",
    "print(f'Total cals {total_cals}')"
   ]
  },
  {
   "cell_type": "code",
   "execution_count": null,
   "id": "a8c05964",
   "metadata": {},
   "outputs": [],
   "source": []
  }
 ],
 "metadata": {
  "kernelspec": {
   "display_name": "Python 3 (ipykernel)",
   "language": "python",
   "name": "python3"
  },
  "language_info": {
   "codemirror_mode": {
    "name": "ipython",
    "version": 3
   },
   "file_extension": ".py",
   "mimetype": "text/x-python",
   "name": "python",
   "nbconvert_exporter": "python",
   "pygments_lexer": "ipython3",
   "version": "3.10.4"
  }
 },
 "nbformat": 4,
 "nbformat_minor": 5
}
