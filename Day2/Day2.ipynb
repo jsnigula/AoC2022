{
 "cells": [
  {
   "cell_type": "code",
   "execution_count": 2,
   "id": "90f9953a",
   "metadata": {},
   "outputs": [],
   "source": [
    "value_map = {'X': 1, 'Y': 2, 'Z': 3}\n",
    "result_map = {'X': {'A': 3, 'B': 0, 'C': 6 },\n",
    "              'Y': {'A': 6, 'B': 3, 'C': 0 },\n",
    "              'Z': {'A': 0, 'B': 6, 'C': 3 }}    "
   ]
  },
  {
   "cell_type": "code",
   "execution_count": 5,
   "id": "ada69430",
   "metadata": {},
   "outputs": [
    {
     "name": "stdout",
     "output_type": "stream",
     "text": [
      "Total result: 10816\n"
     ]
    }
   ],
   "source": [
    "result = 0\n",
    "with open('input2.txt', 'r') as inf:\n",
    "    for line in inf:\n",
    "        opponent, me = line.strip().split()\n",
    "        result += value_map[me] + result_map[me][opponent]\n",
    "        \n",
    "print(f'Total result: {result}')"
   ]
  },
  {
   "cell_type": "code",
   "execution_count": 6,
   "id": "ff57b09a",
   "metadata": {},
   "outputs": [],
   "source": [
    "value_map2 = {'X': 0, 'Y': 3, 'Z': 6}\n",
    "result_map2 = {'X': {'A': 3, 'B': 1, 'C': 2 },\n",
    "                  'Y': {'A': 1, 'B': 2, 'C': 3 },\n",
    "                  'Z': {'A': 2, 'B': 3, 'C': 1 }}  "
   ]
  },
  {
   "cell_type": "code",
   "execution_count": 9,
   "id": "0190faf6",
   "metadata": {},
   "outputs": [
    {
     "name": "stdout",
     "output_type": "stream",
     "text": [
      "Total corrected result: 11657\n"
     ]
    }
   ],
   "source": [
    "result = 0\n",
    "with open('input2.txt', 'r') as inf:\n",
    "    for line in inf:\n",
    "        opponent, me = line.strip().split()\n",
    "        result += value_map2[me] + result_map2[me][opponent]\n",
    "        \n",
    "print(f'Total corrected result: {result}')"
   ]
  },
  {
   "cell_type": "code",
   "execution_count": null,
   "id": "c2cf44c3",
   "metadata": {},
   "outputs": [],
   "source": []
  }
 ],
 "metadata": {
  "kernelspec": {
   "display_name": "Python 3 (ipykernel)",
   "language": "python",
   "name": "python3"
  },
  "language_info": {
   "codemirror_mode": {
    "name": "ipython",
    "version": 3
   },
   "file_extension": ".py",
   "mimetype": "text/x-python",
   "name": "python",
   "nbconvert_exporter": "python",
   "pygments_lexer": "ipython3",
   "version": "3.10.4"
  }
 },
 "nbformat": 4,
 "nbformat_minor": 5
}
