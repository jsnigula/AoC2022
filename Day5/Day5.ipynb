{
 "cells": [
  {
   "cell_type": "code",
   "execution_count": 1,
   "id": "4b700b23",
   "metadata": {},
   "outputs": [],
   "source": [
    "import re"
   ]
  },
  {
   "cell_type": "code",
   "execution_count": 50,
   "id": "ad3d58e4",
   "metadata": {},
   "outputs": [],
   "source": [
    "stacks = [[] for i in range(0,9)]\n",
    "moves = []\n",
    "\n",
    "with open('input5.txt', 'r') as inf:\n",
    "    for line in inf:\n",
    "        if line.strip().startswith('['):\n",
    "            for i in range(0,9):\n",
    "                p = i*4+1\n",
    "                if len(line)>p and line[p] != ' ':\n",
    "                    stacks[i].append(line[p])\n",
    "        elif line.startswith('move'):\n",
    "            moves.append(line.strip())"
   ]
  },
  {
   "cell_type": "code",
   "execution_count": 47,
   "id": "97fb732b",
   "metadata": {},
   "outputs": [
    {
     "name": "stdout",
     "output_type": "stream",
     "text": [
      "Tops of stacks: HNSNMTLHQ\n"
     ]
    }
   ],
   "source": [
    "for m in moves:\n",
    "    m = re.match('move (\\d+) from (\\d) to (\\d)', m)\n",
    "    n = int(m.groups()[0])\n",
    "    fr = int(m.groups()[1])-1\n",
    "    to = int(m.groups()[2])-1\n",
    "    \n",
    "    stacks[to] = stacks[fr][0:n][::-1] + stacks[to]\n",
    "    stacks[fr] = stacks[fr][n:]\n",
    "    \n",
    "tops = \"\".join([s[0] if s != [] else ' ' for s in stacks])\n",
    "print(f'Tops of stacks: {tops}')"
   ]
  },
  {
   "cell_type": "code",
   "execution_count": 51,
   "id": "a5a192ed",
   "metadata": {},
   "outputs": [
    {
     "name": "stdout",
     "output_type": "stream",
     "text": [
      "Tops of stacks with CrateMover 9001: RNLFDJMCT\n"
     ]
    }
   ],
   "source": [
    "for m in moves:\n",
    "    m = re.match('move (\\d+) from (\\d) to (\\d)', m)\n",
    "    n = int(m.groups()[0])\n",
    "    fr = int(m.groups()[1])-1\n",
    "    to = int(m.groups()[2])-1\n",
    "    \n",
    "    stacks[to] = stacks[fr][0:n] + stacks[to]\n",
    "    stacks[fr] = stacks[fr][n:]\n",
    "    \n",
    "tops = \"\".join([s[0] if s != [] else ' ' for s in stacks])\n",
    "print(f'Tops of stacks with CrateMover 9001: {tops}')"
   ]
  },
  {
   "cell_type": "code",
   "execution_count": null,
   "id": "a243cbb2",
   "metadata": {},
   "outputs": [],
   "source": []
  }
 ],
 "metadata": {
  "kernelspec": {
   "display_name": "Python 3 (ipykernel)",
   "language": "python",
   "name": "python3"
  },
  "language_info": {
   "codemirror_mode": {
    "name": "ipython",
    "version": 3
   },
   "file_extension": ".py",
   "mimetype": "text/x-python",
   "name": "python",
   "nbconvert_exporter": "python",
   "pygments_lexer": "ipython3",
   "version": "3.10.4"
  }
 },
 "nbformat": 4,
 "nbformat_minor": 5
}
