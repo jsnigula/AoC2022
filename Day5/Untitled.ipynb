{
 "cells": [
  {
   "cell_type": "code",
   "execution_count": 1,
   "id": "f399d316",
   "metadata": {},
   "outputs": [],
   "source": [
    "import re"
   ]
  },
  {
   "cell_type": "code",
   "execution_count": 48,
   "id": "af2b67f1",
   "metadata": {},
   "outputs": [],
   "source": [
    "stacks = [[] for i in range(0,9)]\n",
    "moves = []\n",
    "\n",
    "with open('input5a.txt', 'r') as inf:\n",
    "    for line in inf:\n",
    "        if line.strip().startswith('['):\n",
    "            for i in range(0,9):\n",
    "                p = i*4+1\n",
    "                if len(line)>p and line[p] != ' ':\n",
    "                    stacks[i].append(line[p])\n",
    "        elif line.startswith('move'):\n",
    "            moves.append(line.strip())"
   ]
  },
  {
   "cell_type": "code",
   "execution_count": 47,
   "id": "b7b4bee6",
   "metadata": {},
   "outputs": [
    {
     "name": "stdout",
     "output_type": "stream",
     "text": [
      "Tops of stacks: HNSNMTLHQ\n"
     ]
    }
   ],
   "source": [
    "for m in moves:\n",
    "    m = re.match('move (\\d+) from (\\d) to (\\d)', m)\n",
    "    n = int(m.groups()[0])\n",
    "    fr = int(m.groups()[1])-1\n",
    "    to = int(m.groups()[2])-1\n",
    "    \n",
    "    stacks[to] = stacks[fr][0:n][::-1] + stacks[to]\n",
    "    stacks[fr] = stacks[fr][n:]\n",
    "    \n",
    "tops = \"\".join([s[0] if s != [] else ' ' for s in stacks])\n",
    "print(f'Tops of stacks: {tops}')"
   ]
  },
  {
   "cell_type": "code",
   "execution_count": 49,
   "id": "37607509",
   "metadata": {},
   "outputs": [
    {
     "name": "stdout",
     "output_type": "stream",
     "text": [
      "Tops of stacks with CrateMover 9001: MCD      \n"
     ]
    }
   ],
   "source": [
    "for m in moves:\n",
    "    m = re.match('move (\\d+) from (\\d) to (\\d)', m)\n",
    "    n = int(m.groups()[0])\n",
    "    fr = int(m.groups()[1])-1\n",
    "    to = int(m.groups()[2])-1\n",
    "    \n",
    "    stacks[to] = stacks[fr][0:n] + stacks[to]\n",
    "    stacks[fr] = stacks[fr][n:]\n",
    "    \n",
    "tops = \"\".join([s[0] if s != [] else ' ' for s in stacks])\n",
    "print(f'Tops of stacks with CrateMover 9001: {tops}')"
   ]
  },
  {
   "cell_type": "code",
   "execution_count": null,
   "id": "21482b68",
   "metadata": {},
   "outputs": [],
   "source": []
  }
 ],
 "metadata": {
  "kernelspec": {
   "display_name": "Python 3 (ipykernel)",
   "language": "python",
   "name": "python3"
  },
  "language_info": {
   "codemirror_mode": {
    "name": "ipython",
    "version": 3
   },
   "file_extension": ".py",
   "mimetype": "text/x-python",
   "name": "python",
   "nbconvert_exporter": "python",
   "pygments_lexer": "ipython3",
   "version": "3.10.4"
  }
 },
 "nbformat": 4,
 "nbformat_minor": 5
}
