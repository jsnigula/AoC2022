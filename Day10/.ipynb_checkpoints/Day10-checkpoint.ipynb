{
 "cells": [
  {
   "cell_type": "code",
   "execution_count": 79,
   "id": "b64b5d8d",
   "metadata": {},
   "outputs": [],
   "source": [
    "import numpy as np\n",
    "\n",
    "def cycle(x, register, cmdlist):\n",
    "    \n",
    "    if register == '':\n",
    "        # print('Reg empty')\n",
    "        # Load a new command\n",
    "        register = cmdlist.pop(0)\n",
    "        if register == 'noop':\n",
    "            # print('Discarding noop')\n",
    "            # Do nothing\n",
    "            register = ''\n",
    "        return x, 0, register, (len(cmdlist) == 0 and register == '')\n",
    "    \n",
    "    else:\n",
    "        # There is an active addx\n",
    "        # print('Processing addx')\n",
    "        x += int(register.split()[1])\n",
    "        # print('x now', x)\n",
    "        #print(register, x, signals[-1])\n",
    "        register = ''\n",
    "\n",
    "    return x, register, (len(cmdlist) == 0)\n"
   ]
  },
  {
   "cell_type": "code",
   "execution_count": 118,
   "id": "4bd840b0",
   "metadata": {},
   "outputs": [],
   "source": [
    "register = ''\n",
    "vals = [1]\n",
    "signals = [0]\n",
    "x = 1\n",
    "with open('input10.txt', 'r') as inf:\n",
    "    cmdlist = [l.strip() for l in inf]\n",
    "    \n",
    "done = False\n",
    "\n",
    "i = 1\n",
    "while not done:\n",
    "    # print('Cycle', i)\n",
    "    # print('x1', x)\n",
    "    signals.append(x*i)\n",
    "    x, register, done=cycle(x, register, cmdlist)\n",
    "    # print('x2', x)\n",
    "    # if i < 221:\n",
    "    #     print(i, register, x)\n",
    "    vals.append(x)\n",
    "    i+=1\n",
    "        "
   ]
  },
  {
   "cell_type": "code",
   "execution_count": 119,
   "id": "b96a3dd3",
   "metadata": {},
   "outputs": [
    {
     "data": {
      "text/plain": [
       "12980"
      ]
     },
     "execution_count": 119,
     "metadata": {},
     "output_type": "execute_result"
    }
   ],
   "source": [
    "np.sum(np.array(signals)[[20, 60, 100, 140, 180, 220]])"
   ]
  },
  {
   "cell_type": "code",
   "execution_count": 120,
   "id": "9c4b5775",
   "metadata": {},
   "outputs": [],
   "source": [
    "lines = []\n",
    "for row in range(0, 6):\n",
    "    line = ''\n",
    "    for i in range(0, 40):\n",
    "        if abs(vals[i+row*40] - i) < 2:\n",
    "            line += '#'\n",
    "        else:\n",
    "            line += '.'\n",
    "    lines.append(line)\n",
    "        "
   ]
  },
  {
   "cell_type": "code",
   "execution_count": 121,
   "id": "e04fae01",
   "metadata": {},
   "outputs": [
    {
     "data": {
      "text/plain": [
       "['###..###....##.#....####.#..#.#....###..',\n",
       " '#..#.#..#....#.#....#....#..#.#....#..#.',\n",
       " '###..#..#....#.#....###..#..#.#....#..#.',\n",
       " '#..#.###.....#.#....#....#..#.#....###..',\n",
       " '#..#.#.#..#..#.#....#....#..#.#....#....',\n",
       " '###..#..#..##..####.#.....##..####.#....']"
      ]
     },
     "execution_count": 121,
     "metadata": {},
     "output_type": "execute_result"
    }
   ],
   "source": [
    "lines"
   ]
  },
  {
   "cell_type": "code",
   "execution_count": null,
   "id": "28d6ec01",
   "metadata": {},
   "outputs": [],
   "source": []
  }
 ],
 "metadata": {
  "kernelspec": {
   "display_name": "Python 3 (ipykernel)",
   "language": "python",
   "name": "python3"
  },
  "language_info": {
   "codemirror_mode": {
    "name": "ipython",
    "version": 3
   },
   "file_extension": ".py",
   "mimetype": "text/x-python",
   "name": "python",
   "nbconvert_exporter": "python",
   "pygments_lexer": "ipython3",
   "version": "3.10.4"
  }
 },
 "nbformat": 4,
 "nbformat_minor": 5
}
