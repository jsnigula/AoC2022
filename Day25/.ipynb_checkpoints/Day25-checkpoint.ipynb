{
 "cells": [
  {
   "cell_type": "code",
   "execution_count": 297,
   "id": "bd0a16fd",
   "metadata": {},
   "outputs": [],
   "source": [
    "import numpy as np"
   ]
  },
  {
   "cell_type": "code",
   "execution_count": 390,
   "id": "57998c88",
   "metadata": {},
   "outputs": [],
   "source": [
    "def snafu2dec(s):\n",
    "    r = 0\n",
    "    for i, c in enumerate(reversed(s)):\n",
    "        if c == '-':\n",
    "            r += -5**i\n",
    "        elif c== '=':\n",
    "            r += -2 * 5**i\n",
    "        else:\n",
    "            r += int(c) * 5**i\n",
    "            \n",
    "    return r\n",
    "\n",
    "def dec2snafu(v):\n",
    "    cmap = {-2: '=',\n",
    "           -1: '-',\n",
    "           0: '0',\n",
    "           1: '1',\n",
    "           2: '2'}\n",
    "    p = 0\n",
    "    maxpow = None\n",
    "    firstval = 0\n",
    "    minval = 1e16\n",
    "    while True:\n",
    "        diffs = np.array([2, 1])\n",
    "        vals = diffs * 5**p\n",
    "        vdiff = np.abs(v-vals)\n",
    "        if min(vdiff) < minval:\n",
    "            minval = min(vdiff)\n",
    "            firstval = diffs[np.where(vdiff == min(vdiff))][0]\n",
    "            maxpow = p\n",
    "        else:\n",
    "            break\n",
    "        p+=1\n",
    "\n",
    "    tv = firstval * 5**maxpow\n",
    "    r = [cmap[firstval]]\n",
    "    for p in range(maxpow-1, -1, -1):\n",
    "        diffs = np.array([2, 1, 0, -1, -2])\n",
    "        vals = diffs * 5**p + tv\n",
    "        vdiff = np.abs(v-vals)\n",
    "        m = diffs[np.where(vdiff == min(vdiff))][0]\n",
    "        tv += m * 5**p\n",
    "        r.append(cmap[m])\n",
    "        \n",
    "    return ''.join(r)"
   ]
  },
  {
   "cell_type": "code",
   "execution_count": 396,
   "id": "7ceeab8f",
   "metadata": {},
   "outputs": [
    {
     "name": "stdout",
     "output_type": "stream",
     "text": [
      "Sum 30535047052797\n",
      "Result 2=001=-2=--0212-22-2\n"
     ]
    }
   ],
   "source": [
    "with open('input25.txt', 'r') as inf:\n",
    "    data = [snafu2dec(line.strip()) for line in inf]\n",
    "    \n",
    "print('Sum', sum(data))\n",
    "\n",
    "print('Result', dec2snafu(sum(data)))"
   ]
  },
  {
   "cell_type": "code",
   "execution_count": null,
   "id": "3cd1683d",
   "metadata": {},
   "outputs": [],
   "source": []
  }
 ],
 "metadata": {
  "kernelspec": {
   "display_name": "Python 3 (ipykernel)",
   "language": "python",
   "name": "python3"
  },
  "language_info": {
   "codemirror_mode": {
    "name": "ipython",
    "version": 3
   },
   "file_extension": ".py",
   "mimetype": "text/x-python",
   "name": "python",
   "nbconvert_exporter": "python",
   "pygments_lexer": "ipython3",
   "version": "3.10.4"
  }
 },
 "nbformat": 4,
 "nbformat_minor": 5
}
