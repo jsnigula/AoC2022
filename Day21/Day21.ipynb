{
 "cells": [
  {
   "cell_type": "code",
   "execution_count": 1,
   "id": "467c2b08",
   "metadata": {},
   "outputs": [],
   "source": [
    "import re\n",
    "import copy"
   ]
  },
  {
   "cell_type": "code",
   "execution_count": 45,
   "id": "1598daea",
   "metadata": {},
   "outputs": [
    {
     "name": "stdout",
     "output_type": "stream",
     "text": [
      "38914458159166.0\n",
      "3665520865940.0\n"
     ]
    }
   ],
   "source": [
    "with open('input21.txt', 'r') as inf:\n",
    "    data = [l.strip() for l in inf]\n",
    "\n",
    "eqn = ''\n",
    "\n",
    "for l in data:\n",
    "    m = re.match('(....): (.*)$', l)\n",
    "\n",
    "    values[m.group(1)] = '(' + m.group(2) + ')'\n",
    "\n",
    "while True:\n",
    "# for i in range(40):\n",
    "    \n",
    "    found = re.findall('[a-z]{4}', values['root'])\n",
    "    if len(found) == 0:\n",
    "        break\n",
    "        \n",
    "    for key in found:\n",
    "        s = values['root'].replace(key, values[key])\n",
    "        values['root'] = s\n",
    "\n",
    "    # print(values)\n",
    "    \n",
    "r = eval(values['root'])\n",
    "print(r)\n",
    "\n",
    "eqn = ''\n",
    "\n",
    "for l in data:\n",
    "    m = re.match('(....): (.*)$', l)\n",
    "\n",
    "    values[m.group(1)] = '(' + m.group(2) + ')'\n",
    "\n",
    "found = re.findall('[a-z]{4}', values['root'])\n",
    "\n",
    "values['root'] = found[0] + ' == ' + found[1]\n",
    "values['humn'] = 'x'\n",
    "\n",
    "while True:\n",
    "    \n",
    "    found = re.findall('[a-z]{4}', values['root'])\n",
    "    if len(found) == 0:\n",
    "        break\n",
    "        \n",
    "    for key in found:\n",
    "        s = values['root'].replace(key, values[key])\n",
    "        values['root'] = s\n",
    "\n",
    "  \n",
    "lower = 0\n",
    "upper = 1e16\n",
    "\n",
    "left, right = values['root'].split('==')\n",
    "\n",
    "x = 1\n",
    "v1 = eval(left)\n",
    "x = 2\n",
    "v2 = eval(left)\n",
    "\n",
    "if v2 > v1:\n",
    "    up = False\n",
    "else:\n",
    "    up = True\n",
    "\n",
    "x = 2\n",
    "vr = eval(right)\n",
    "while True:\n",
    "    x = (upper + lower) // 2\n",
    "    \n",
    "    vl = eval(left)\n",
    "    if vl == vr:\n",
    "        print(x)\n",
    "        break\n",
    "    if vl > vr:\n",
    "        if up:\n",
    "            lower = x\n",
    "        else:\n",
    "            upper = x\n",
    "    if vr > vl:\n",
    "        if up:\n",
    "            upper = x\n",
    "        else:\n",
    "            lower = x"
   ]
  },
  {
   "cell_type": "code",
   "execution_count": null,
   "id": "f79ffda1",
   "metadata": {},
   "outputs": [],
   "source": []
  }
 ],
 "metadata": {
  "kernelspec": {
   "display_name": "Python 3 (ipykernel)",
   "language": "python",
   "name": "python3"
  },
  "language_info": {
   "codemirror_mode": {
    "name": "ipython",
    "version": 3
   },
   "file_extension": ".py",
   "mimetype": "text/x-python",
   "name": "python",
   "nbconvert_exporter": "python",
   "pygments_lexer": "ipython3",
   "version": "3.10.4"
  }
 },
 "nbformat": 4,
 "nbformat_minor": 5
}
