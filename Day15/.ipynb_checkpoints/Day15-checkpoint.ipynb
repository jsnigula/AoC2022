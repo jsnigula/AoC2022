{
 "cells": [
  {
   "cell_type": "code",
   "execution_count": 1,
   "id": "9ab48039",
   "metadata": {},
   "outputs": [],
   "source": [
    "def mdist(sx, sy, bx, by):\n",
    "    \n",
    "    return abs(sx - bx) + abs(sy - by)"
   ]
  },
  {
   "cell_type": "code",
   "execution_count": 2,
   "id": "128dc7b9",
   "metadata": {},
   "outputs": [],
   "source": [
    "import re"
   ]
  },
  {
   "cell_type": "code",
   "execution_count": 9,
   "id": "d54d5d93",
   "metadata": {},
   "outputs": [
    {
     "data": {
      "text/plain": [
       "('2', '18', '-2', '15')"
      ]
     },
     "execution_count": 9,
     "metadata": {},
     "output_type": "execute_result"
    }
   ],
   "source": [
    "s = 'Sensor at x=2, y=18: closest beacon is at x=-2, y=15'\n",
    "m = re.match(r'Sensor at x=(-?\\d+), y=(-?\\d+): closest beacon is at x=(-?\\d+), y=(-?\\d+)', s)\n",
    "m.groups()"
   ]
  },
  {
   "cell_type": "code",
   "execution_count": 71,
   "id": "9c57f043",
   "metadata": {},
   "outputs": [
    {
     "name": "stdout",
     "output_type": "stream",
     "text": [
      "Checking sensor 0\n",
      "Checking sensor 1\n",
      "Checking sensor 2\n",
      "Checking sensor 3\n",
      "Checking sensor 4\n",
      "Checking sensor 5\n",
      "Checking sensor 6\n",
      "Checking sensor 7\n",
      "Checking sensor 8\n",
      "Checking sensor 9\n",
      "Checking sensor 10\n",
      "Checking sensor 11\n",
      "Checking sensor 12\n",
      "Checking sensor 13\n",
      "Checking sensor 14\n",
      "Checking sensor 15\n",
      "Checking sensor 16\n",
      "Checking sensor 17\n",
      "Checking sensor 18\n",
      "Checking sensor 19\n",
      "Checking sensor 20\n",
      "Checking sensor 21\n",
      "Checking sensor 22\n",
      "Checking sensor 23\n",
      "Checking sensor 24\n",
      "Checking sensor 25\n",
      "Checking sensor 26\n",
      "5011718\n"
     ]
    }
   ],
   "source": [
    "sensors = []\n",
    "\n",
    "with open('input15.txt', 'r') as inf:\n",
    "    data = [l.strip() for l in inf]\n",
    "    \n",
    "minx = 1e20\n",
    "maxx = -1e20\n",
    "\n",
    "for s in data:\n",
    "    m = re.match(r'Sensor at x=(-?\\d+), y=(-?\\d+): closest beacon is at x=(-?\\d+), y=(-?\\d+)', s)\n",
    "    sensors.append([int(p) for p in m.groups()])\n",
    "    \n",
    "ranges = []\n",
    "for s in (sensors):\n",
    "    ranges.append(mdist(*s))\n",
    "\n",
    "no_beacon = set()\n",
    "\n",
    "y_check = 10\n",
    "# y_check = 2000000\n",
    "\n",
    "for i, s in enumerate(sensors):\n",
    "    print('Checking sensor', i)\n",
    "    if mdist(s[0], s[1], s[0], y_check) > ranges[i]:\n",
    "        # print('Sensor', i, 'out of range')\n",
    "        continue\n",
    "    else:\n",
    "        no_beacon.add(s[0])\n",
    "    \n",
    "    x = s[0] + 1\n",
    "    while x < (s[0] + ranges[i] + 10):\n",
    "        if mdist(s[0], s[1], x, y_check) > ranges[i]:\n",
    "            break\n",
    "        else:\n",
    "            no_beacon.add(x)\n",
    "            x += 1\n",
    "\n",
    "    x = s[0] - 1\n",
    "    while x > (s[0] - ranges[i] - 10):\n",
    "        if mdist(s[0], s[1], x, y_check) > ranges[i]:\n",
    "            break\n",
    "        else:\n",
    "            no_beacon.add(x)\n",
    "            x -= 1\n",
    "        \n",
    "for s in sensors:\n",
    "    if s[3] == y_check and s[2] in no_beacon:\n",
    "        no_beacon.remove(s[2])\n",
    "#print(no_beacon)\n",
    "print(len(no_beacon))"
   ]
  },
  {
   "cell_type": "code",
   "execution_count": 75,
   "id": "967a9ca6",
   "metadata": {},
   "outputs": [
    {
     "name": "stdout",
     "output_type": "stream",
     "text": [
      "0\n",
      "500000\n",
      "1000000\n",
      "1500000\n",
      "2000000\n",
      "2500000\n",
      "(3135800, 2766584) 12543202766584\n"
     ]
    }
   ],
   "source": [
    "# maxx = 20\n",
    "# maxy = 20\n",
    "maxx = 4000000\n",
    "maxy = 4000000\n",
    "\n",
    "b = None\n",
    "\n",
    "for y in range(0, maxy+1):\n",
    "    if (y % 500000) == 0:\n",
    "        print(y)\n",
    "    x = 0\n",
    "    while x <= maxx:\n",
    "        # print(x, y)\n",
    "        xnext = x\n",
    "        for i, s in enumerate(sensors):\n",
    "            if mdist(s[0], s[1], x, y) <= ranges[i]:\n",
    "                # print('inrange', i)\n",
    "                srange = s[0] + ranges[i] - abs(y - s[1]) + 1\n",
    "                xnext = max(xnext, srange)\n",
    "                # print('nextx', xnext)\n",
    "        if xnext == x:\n",
    "            b = (x, y)\n",
    "            break\n",
    "        x = xnext\n",
    "    if b is not None:\n",
    "        break\n",
    "        \n",
    "print(b, b[0]*4000000 + b[1])"
   ]
  },
  {
   "cell_type": "code",
   "execution_count": 24,
   "id": "5cdce914",
   "metadata": {},
   "outputs": [],
   "source": [
    "pos = set()"
   ]
  },
  {
   "cell_type": "code",
   "execution_count": 25,
   "id": "1a827931",
   "metadata": {},
   "outputs": [
    {
     "data": {
      "text/plain": [
       "set()"
      ]
     },
     "execution_count": 25,
     "metadata": {},
     "output_type": "execute_result"
    }
   ],
   "source": [
    "pos"
   ]
  },
  {
   "cell_type": "code",
   "execution_count": 26,
   "id": "92c6554b",
   "metadata": {},
   "outputs": [],
   "source": [
    "pos.add(1)"
   ]
  },
  {
   "cell_type": "code",
   "execution_count": 27,
   "id": "a6b25a9d",
   "metadata": {},
   "outputs": [
    {
     "data": {
      "text/plain": [
       "{1, 2}"
      ]
     },
     "execution_count": 27,
     "metadata": {},
     "output_type": "execute_result"
    }
   ],
   "source": [
    "pos.add(2)\n",
    "pos.add(1)\n",
    "pos"
   ]
  },
  {
   "cell_type": "code",
   "execution_count": 39,
   "id": "0c8e7ead",
   "metadata": {},
   "outputs": [],
   "source": [
    "pos.remove(1)"
   ]
  },
  {
   "cell_type": "code",
   "execution_count": 40,
   "id": "015f3757",
   "metadata": {},
   "outputs": [
    {
     "data": {
      "text/plain": [
       "{2}"
      ]
     },
     "execution_count": 40,
     "metadata": {},
     "output_type": "execute_result"
    }
   ],
   "source": [
    "pos"
   ]
  },
  {
   "cell_type": "code",
   "execution_count": 42,
   "id": "5bd24d42",
   "metadata": {},
   "outputs": [
    {
     "data": {
      "text/plain": [
       "False"
      ]
     },
     "execution_count": 42,
     "metadata": {},
     "output_type": "execute_result"
    }
   ],
   "source": [
    "12 in pos"
   ]
  },
  {
   "cell_type": "code",
   "execution_count": null,
   "id": "e6ad6a2f",
   "metadata": {},
   "outputs": [],
   "source": []
  }
 ],
 "metadata": {
  "kernelspec": {
   "display_name": "Python 3 (ipykernel)",
   "language": "python",
   "name": "python3"
  },
  "language_info": {
   "codemirror_mode": {
    "name": "ipython",
    "version": 3
   },
   "file_extension": ".py",
   "mimetype": "text/x-python",
   "name": "python",
   "nbconvert_exporter": "python",
   "pygments_lexer": "ipython3",
   "version": "3.10.4"
  }
 },
 "nbformat": 4,
 "nbformat_minor": 5
}
