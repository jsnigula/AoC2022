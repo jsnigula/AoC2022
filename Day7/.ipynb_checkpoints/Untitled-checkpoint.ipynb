{
 "cells": [
  {
   "cell_type": "code",
   "execution_count": 1,
   "id": "dca45e2e",
   "metadata": {},
   "outputs": [],
   "source": [
    "class File:\n",
    "    def __init__(self, name, size):\n",
    "        self.name = name\n",
    "        self.size = size\n",
    "        \n",
    "    def print(self, lvl):\n",
    "        print(f'{lvl}- {self.name} (file, size={self.size})')"
   ]
  },
  {
   "cell_type": "code",
   "execution_count": 2,
   "id": "53ee48c5",
   "metadata": {},
   "outputs": [],
   "source": [
    "class Dir:\n",
    "    def __init__(self, name, parent):\n",
    "        self.name = name\n",
    "        self.parent = parent\n",
    "        self.size = 0\n",
    "        \n",
    "        self.dirs = {}\n",
    "        \n",
    "        self.files = {}\n",
    "        \n",
    "    def parse(self, commands):\n",
    "        while True:\n",
    "            cmd = commands[0].strip()\n",
    "            print(cmd)\n",
    "            if cmd == '$ cd ..':\n",
    "                commands.pop(0)\n",
    "                target_dir = self.parent\n",
    "                break\n",
    "            elif cmd == '$ cd /':\n",
    "                if self.parent is None:\n",
    "                    commands.pop(0)\n",
    "                    continue\n",
    "                target_dir = self.parent\n",
    "                break\n",
    "            elif cmd.startswith('$ cd '):\n",
    "                dirname = cmd.split(' ')[1]\n",
    "                commands.pop(0)\n",
    "                target_dir = self.dirs[dirname]\n",
    "            elif cmd.startswith('dir'):\n",
    "                dirname = cmd.split(' ')[1]\n",
    "                commands.pop(0)\n",
    "                if dirname not in self.dirs:\n",
    "                    self.dirs[dirname] = Dir(dirname, self)\n",
    "            elif cmd == '$ ls':\n",
    "                commands.pop(0)\n",
    "                continue\n",
    "            else:\n",
    "                filesize, filename = cmd.split(' ')\n",
    "                commands.pop(0)\n",
    "                if filename not in self.files:\n",
    "                    self.files[filename] = File(filename, filesize)\n",
    "        if len(commands) != 0:\n",
    "            target_dir.parse(commands)\n",
    "        \n",
    "    def print(self, lvl):\n",
    "        print(f'{lvl}- {self.name} (dir)')\n",
    "        for d in self.dirs.values():\n",
    "            d.print()\n",
    "        for f in self.files.values():\n",
    "            f.print()\n",
    "        "
   ]
  },
  {
   "cell_type": "code",
   "execution_count": 3,
   "id": "d95afe8f",
   "metadata": {},
   "outputs": [
    {
     "name": "stdout",
     "output_type": "stream",
     "text": [
      "$ cd /\n",
      "$ ls\n"
     ]
    },
    {
     "ename": "TypeError",
     "evalue": "startswith first arg must be str or a tuple of str, not builtin_function_or_method",
     "output_type": "error",
     "traceback": [
      "\u001b[0;31m---------------------------------------------------------------------------\u001b[0m",
      "\u001b[0;31mTypeError\u001b[0m                                 Traceback (most recent call last)",
      "Input \u001b[0;32mIn [3]\u001b[0m, in \u001b[0;36m<cell line: 6>\u001b[0;34m()\u001b[0m\n\u001b[1;32m      2\u001b[0m     commands \u001b[38;5;241m=\u001b[39m \u001b[38;5;28mlist\u001b[39m(inf)\n\u001b[1;32m      4\u001b[0m Root \u001b[38;5;241m=\u001b[39m Dir(\u001b[38;5;124m'\u001b[39m\u001b[38;5;124m/\u001b[39m\u001b[38;5;124m'\u001b[39m, \u001b[38;5;28;01mNone\u001b[39;00m)\n\u001b[0;32m----> 6\u001b[0m \u001b[43mRoot\u001b[49m\u001b[38;5;241;43m.\u001b[39;49m\u001b[43mparse\u001b[49m\u001b[43m(\u001b[49m\u001b[43mcommands\u001b[49m\u001b[43m)\u001b[49m\n",
      "Input \u001b[0;32mIn [2]\u001b[0m, in \u001b[0;36mDir.parse\u001b[0;34m(self, commands)\u001b[0m\n\u001b[1;32m     27\u001b[0m     commands\u001b[38;5;241m.\u001b[39mpop(\u001b[38;5;241m0\u001b[39m)\n\u001b[1;32m     28\u001b[0m     target_dir \u001b[38;5;241m=\u001b[39m \u001b[38;5;28mself\u001b[39m\u001b[38;5;241m.\u001b[39mdirs[dirname]\n\u001b[0;32m---> 29\u001b[0m \u001b[38;5;28;01melif\u001b[39;00m \u001b[43mcmd\u001b[49m\u001b[38;5;241;43m.\u001b[39;49m\u001b[43mstartswith\u001b[49m\u001b[43m(\u001b[49m\u001b[38;5;28;43mdir\u001b[39;49m\u001b[43m)\u001b[49m:\n\u001b[1;32m     30\u001b[0m     dirname \u001b[38;5;241m=\u001b[39m cmd\u001b[38;5;241m.\u001b[39msplit(\u001b[38;5;124m'\u001b[39m\u001b[38;5;124m \u001b[39m\u001b[38;5;124m'\u001b[39m)[\u001b[38;5;241m1\u001b[39m]\n\u001b[1;32m     31\u001b[0m     commands\u001b[38;5;241m.\u001b[39mpop(\u001b[38;5;241m0\u001b[39m)\n",
      "\u001b[0;31mTypeError\u001b[0m: startswith first arg must be str or a tuple of str, not builtin_function_or_method"
     ]
    }
   ],
   "source": [
    "with open('input7a.txt', 'r') as inf:\n",
    "    commands = list(inf)\n",
    "    \n",
    "Root = Dir('/', None)\n",
    "\n",
    "Root.parse(commands)"
   ]
  },
  {
   "cell_type": "code",
   "execution_count": null,
   "id": "ec34410f",
   "metadata": {},
   "outputs": [],
   "source": []
  }
 ],
 "metadata": {
  "kernelspec": {
   "display_name": "Python 3 (ipykernel)",
   "language": "python",
   "name": "python3"
  },
  "language_info": {
   "codemirror_mode": {
    "name": "ipython",
    "version": 3
   },
   "file_extension": ".py",
   "mimetype": "text/x-python",
   "name": "python",
   "nbconvert_exporter": "python",
   "pygments_lexer": "ipython3",
   "version": "3.10.4"
  }
 },
 "nbformat": 4,
 "nbformat_minor": 5
}
