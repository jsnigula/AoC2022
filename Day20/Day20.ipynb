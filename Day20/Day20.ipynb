{
 "cells": [
  {
   "cell_type": "code",
   "execution_count": 3,
   "id": "852886ec",
   "metadata": {},
   "outputs": [],
   "source": [
    "import numpy as np\n",
    "import copy"
   ]
  },
  {
   "cell_type": "code",
   "execution_count": 6,
   "id": "d91fd05d",
   "metadata": {},
   "outputs": [],
   "source": [
    "class Code():\n",
    "    \n",
    "    def __init__(self, data, mult):\n",
    "        self.orig = np.array(copy.copy(data)) * mult\n",
    "        self.idx = np.arange(0, len(data), dtype=int)\n",
    "        self.curidx = 0\n",
    "        self.data = np.array(copy.copy(data)) * mult\n",
    "        \n",
    "    def mix(self):\n",
    "        \n",
    "        # print('Mixing', len(self.data), 'elements')\n",
    "        \n",
    "        for i in range(len(self.data)):\n",
    "            \n",
    "            offset = self.orig[i]\n",
    "            curidx = np.argwhere(self.idx==i)[0][0]\n",
    "\n",
    "            # print(i, offset, curidx)\n",
    "            if offset == 0:\n",
    "                continue\n",
    "            else:\n",
    "                if (curidx+offset) > len(self.data)-1:\n",
    "                    newidx = (curidx+offset) % (len(self.data)-1)\n",
    "                elif (curidx+offset) < 0:\n",
    "                    newidx = (curidx+offset) % (len(self.data)-1)\n",
    "                else:\n",
    "                    newidx = (curidx+offset) % len(self.data)\n",
    "                # print('new', newidx)\n",
    "                # if offset < 0:\n",
    "                #    newidx -= 1\n",
    "                if newidx == 0:\n",
    "                    newidx = len(self.data)-1\n",
    "\n",
    "                self.data = np.delete(self.data, curidx)\n",
    "                self.idx = np.delete(self.idx, curidx)\n",
    "                \n",
    "                self.data = np.insert(self.data, newidx, offset)\n",
    "                self.idx = np.insert(self.idx, newidx, i)\n",
    "                # print(self.data)\n",
    "\n",
    "    def nth_after_zero(self, n):\n",
    "        \n",
    "        idx = np.where(self.data == 0)[0][0]\n",
    "        return self.data[(n+idx) % len(self.data)]\n",
    "        "
   ]
  },
  {
   "cell_type": "code",
   "execution_count": 7,
   "id": "b54ffe87",
   "metadata": {},
   "outputs": [
    {
     "name": "stdout",
     "output_type": "stream",
     "text": [
      "Result: 8302\n",
      "Result: 656575624777\n"
     ]
    }
   ],
   "source": [
    "with open('input20.txt', 'r') as inf:\n",
    "    data = [int(v.strip()) for v in inf]\n",
    "\n",
    "cc=Code(data, 1)\n",
    "cc.mix()\n",
    "\n",
    "val = 0\n",
    "\n",
    "for i in (1000, 2000, 3000):\n",
    "    val += cc.nth_after_zero(i)\n",
    "    \n",
    "print('Result:', val)\n",
    "\n",
    "cc=Code(data, 811589153)\n",
    "\n",
    "for i in range(10):\n",
    "    cc.mix()\n",
    "    # print(cc.data)\n",
    "\n",
    "val = 0\n",
    "\n",
    "for i in (1000, 2000, 3000):\n",
    "    val += cc.nth_after_zero(i)\n",
    "    \n",
    "print('Result:', val)\n"
   ]
  },
  {
   "cell_type": "code",
   "execution_count": null,
   "id": "84a123c5",
   "metadata": {},
   "outputs": [],
   "source": []
  }
 ],
 "metadata": {
  "kernelspec": {
   "display_name": "Python 3 (ipykernel)",
   "language": "python",
   "name": "python3"
  },
  "language_info": {
   "codemirror_mode": {
    "name": "ipython",
    "version": 3
   },
   "file_extension": ".py",
   "mimetype": "text/x-python",
   "name": "python",
   "nbconvert_exporter": "python",
   "pygments_lexer": "ipython3",
   "version": "3.10.4"
  }
 },
 "nbformat": 4,
 "nbformat_minor": 5
}
