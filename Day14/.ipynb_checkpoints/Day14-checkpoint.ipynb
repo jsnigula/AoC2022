{
 "cells": [
  {
   "cell_type": "code",
   "execution_count": 2,
   "id": "047f7c57",
   "metadata": {},
   "outputs": [],
   "source": [
    "import numpy as np"
   ]
  },
  {
   "cell_type": "code",
   "execution_count": 3,
   "id": "75c207f9",
   "metadata": {},
   "outputs": [],
   "source": [
    "def drop_sand(cave, maxy, novoid=False):\n",
    "    \n",
    "    s_x = 500\n",
    "    s_y = 0\n",
    "    \n",
    "    while True:\n",
    "        if s_y == maxy:\n",
    "            if novoid:\n",
    "                cave[s_y, s_x] = 2 \n",
    "                return False\n",
    "            return True\n",
    "        if cave[s_y+1, s_x] == 0:\n",
    "            s_y += 1 # Fall down\n",
    "            continue\n",
    "        elif cave[s_y+1, s_x-1] == 0:\n",
    "            s_y += 1\n",
    "            s_x -= 1 # Fall left\n",
    "            continue\n",
    "        elif cave[s_y+1, s_x+1] == 0:\n",
    "            s_y += 1\n",
    "            s_x += 1 # Fall right\n",
    "            continue\n",
    "        else:\n",
    "            # Stopped\n",
    "            cave[s_y, s_x] = 2\n",
    "            if (s_x, s_y) == (500, 0):\n",
    "                return True\n",
    "            return False\n",
    "            "
   ]
  },
  {
   "cell_type": "code",
   "execution_count": 4,
   "id": "e40d7f7e",
   "metadata": {},
   "outputs": [
    {
     "name": "stdout",
     "output_type": "stream",
     "text": [
      "1001\n",
      "27976\n"
     ]
    }
   ],
   "source": [
    "structs = []\n",
    "minx = 1e9\n",
    "maxx = 0\n",
    "maxy = 0\n",
    "\n",
    "with open('input14.txt', 'r') as inf:\n",
    "    for line in inf:\n",
    "        struct = []\n",
    "        for p in line.strip().split(' -> '):\n",
    "            x, y = p.split(',')\n",
    "            x = int(x)\n",
    "            y = int(y)\n",
    "            struct.append((x, y))\n",
    "        \n",
    "            if x < minx:\n",
    "                minx = x\n",
    "            if x > maxx:\n",
    "                maxx = x\n",
    "            if y > maxy:\n",
    "                maxy = y\n",
    "        structs.append(struct)\n",
    "\n",
    "# cave = np.zeros((maxy+2, maxx+3))\n",
    "cave = np.zeros((maxy+2, 1000))\n",
    "for s in structs:\n",
    "    lastx = None\n",
    "    lasty = None\n",
    "    for p in s:\n",
    "        x, y = p\n",
    "        # y-=1\n",
    "        if lastx is None:\n",
    "            lastx = x\n",
    "            lasty = y\n",
    "            continue\n",
    "        if lastx == x:\n",
    "            if y < lasty:\n",
    "                cave[y:lasty+1,x] = 1\n",
    "            else:\n",
    "                cave[lasty:y+1,x] = 1\n",
    "        else:\n",
    "            if x < lastx:\n",
    "                cave[y, x:lastx+1] = 1\n",
    "            else:\n",
    "                cave[y, lastx:x+1] = 1\n",
    "        lastx = x\n",
    "        lasty = y\n",
    "\n",
    "# print(cave[:,494:504])\n",
    "\n",
    "done = False\n",
    "\n",
    "c = 0\n",
    "while not done:\n",
    "    c+=1\n",
    "    done = drop_sand(cave, maxy)\n",
    "    # print(cave[:,493:505])\n",
    "\n",
    "print(c-1)\n",
    "\n",
    "# Part 2\n",
    "done = False\n",
    "while not done:\n",
    "    c+=1\n",
    "    done = drop_sand(cave, maxy+1, True)\n",
    "    # print(cave[:,493:505])\n",
    "\n",
    "print(c-1)\n"
   ]
  },
  {
   "cell_type": "code",
   "execution_count": 20,
   "id": "92b553b6",
   "metadata": {},
   "outputs": [
    {
     "ename": "TypeError",
     "evalue": "unsupported operand type(s) for -: 'tuple' and 'tuple'",
     "output_type": "error",
     "traceback": [
      "\u001b[0;31m---------------------------------------------------------------------------\u001b[0m",
      "\u001b[0;31mTypeError\u001b[0m                                 Traceback (most recent call last)",
      "Input \u001b[0;32mIn [20]\u001b[0m, in \u001b[0;36m<cell line: 1>\u001b[0;34m()\u001b[0m\n\u001b[0;32m----> 1\u001b[0m \u001b[43m(\u001b[49m\u001b[38;5;241;43m1\u001b[39;49m\u001b[43m,\u001b[49m\u001b[38;5;241;43m2\u001b[39;49m\u001b[43m)\u001b[49m\u001b[43m \u001b[49m\u001b[38;5;241;43m-\u001b[39;49m\u001b[43m \u001b[49m\u001b[43m(\u001b[49m\u001b[38;5;241;43m0\u001b[39;49m\u001b[43m,\u001b[49m\u001b[38;5;241;43m1\u001b[39;49m\u001b[43m)\u001b[49m\n",
      "\u001b[0;31mTypeError\u001b[0m: unsupported operand type(s) for -: 'tuple' and 'tuple'"
     ]
    }
   ],
   "source": [
    "(1,2) - (0,1)"
   ]
  },
  {
   "cell_type": "code",
   "execution_count": null,
   "id": "87b12c06",
   "metadata": {},
   "outputs": [],
   "source": []
  }
 ],
 "metadata": {
  "kernelspec": {
   "display_name": "Python 3 (ipykernel)",
   "language": "python",
   "name": "python3"
  },
  "language_info": {
   "codemirror_mode": {
    "name": "ipython",
    "version": 3
   },
   "file_extension": ".py",
   "mimetype": "text/x-python",
   "name": "python",
   "nbconvert_exporter": "python",
   "pygments_lexer": "ipython3",
   "version": "3.10.4"
  }
 },
 "nbformat": 4,
 "nbformat_minor": 5
}
