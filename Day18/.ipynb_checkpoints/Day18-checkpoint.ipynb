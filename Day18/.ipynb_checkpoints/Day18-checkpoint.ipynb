{
 "cells": [
  {
   "cell_type": "code",
   "execution_count": 138,
   "id": "ce876d75",
   "metadata": {},
   "outputs": [],
   "source": [
    "import numpy as np"
   ]
  },
  {
   "cell_type": "code",
   "execution_count": 139,
   "id": "10527b7e",
   "metadata": {},
   "outputs": [],
   "source": [
    "def find_reachable(pos, cube, reachable, visited):\n",
    "    \n",
    "    directs=[(1,0,0), (-1,0,0), (0,-1,0), (0,1,0), (0,0,-1), (0,0,1)]\n",
    "    p = tuple(pos)\n",
    "    for d in directs:\n",
    "        nextpos = pos + d\n",
    "        if any(nextpos < 0) or any(nextpos>(cube.shape[0]-1)):\n",
    "            continue\n",
    "        nxtp = tuple(nextpos)\n",
    "        if visited[nxtp] == 1:\n",
    "            continue  # Already visited\n",
    "        \n",
    "        if cube[nxtp] == 0:\n",
    "            # Reachable\n",
    "            reachable[nxtp] = 1\n",
    "            \n",
    "    visited[p] = 1  # Mark as visited\n",
    " "
   ]
  },
  {
   "cell_type": "code",
   "execution_count": 141,
   "id": "2e9fff80",
   "metadata": {},
   "outputs": [
    {
     "name": "stdout",
     "output_type": "stream",
     "text": [
      "N Faces 3542\n",
      "2080\n"
     ]
    }
   ],
   "source": [
    "size = 30\n",
    "cube = np.zeros((size, size, size), dtype=int)\n",
    "visited = np.zeros((size, size, size), dtype=int)\n",
    "reachable = np.zeros((size, size, size), dtype=int)\n",
    "faces = np.zeros((size, size, size), dtype=int)\n",
    "\n",
    "ncubes = 0\n",
    "with open('input18.txt', 'r') as inf:\n",
    "    data = [line.strip() for line in inf] \n",
    "\n",
    "for d in data:\n",
    "    p = tuple([int(p) for p in d.split(',')])\n",
    "    n_p = np.array(p)\n",
    "    cube[tuple(n_p+1)] = 1\n",
    "\n",
    "for i in range(size-1):\n",
    "    for j in range(size-1):\n",
    "        for k in range(size-1):\n",
    "            if cube[i, j, k] == 1:\n",
    "                continue\n",
    "            if cube[i-1,j,k] == 1:\n",
    "                faces[i, j, k] += 1\n",
    "            if cube[i+1,j,k] == 1:\n",
    "                faces[i, j, k] += 1\n",
    "            if cube[i,j-1,k] == 1:\n",
    "                faces[i, j, k] += 1\n",
    "            if cube[i,j+1,k] == 1:\n",
    "                faces[i, j, k] += 1\n",
    "            if cube[i,j,k-1] == 1:\n",
    "                faces[i, j, k] += 1\n",
    "            if cube[i,j,k+1] == 1:\n",
    "                faces[i, j, k] += 1\n",
    "                \n",
    "print('N Faces', np.sum(faces))\n",
    "\n",
    "reachable[(0,0,0)] = 1\n",
    "while True:\n",
    "    wx, wy, wz = np.where((visited == 0) & (reachable ==1))\n",
    "    if len(wx) == 0 and len(wy) == 0 and len(wz) == 0:\n",
    "        break\n",
    "    find_reachable(np.array([wx[0], wy[0], wz[0]]), cube, reachable, visited)\n",
    "    \n",
    "print(np.sum(reachable * faces))\n"
   ]
  },
  {
   "cell_type": "code",
   "execution_count": null,
   "id": "65972356",
   "metadata": {},
   "outputs": [],
   "source": []
  }
 ],
 "metadata": {
  "kernelspec": {
   "display_name": "Python 3 (ipykernel)",
   "language": "python",
   "name": "python3"
  },
  "language_info": {
   "codemirror_mode": {
    "name": "ipython",
    "version": 3
   },
   "file_extension": ".py",
   "mimetype": "text/x-python",
   "name": "python",
   "nbconvert_exporter": "python",
   "pygments_lexer": "ipython3",
   "version": "3.10.4"
  }
 },
 "nbformat": 4,
 "nbformat_minor": 5
}
