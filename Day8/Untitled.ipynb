{
 "cells": [
  {
   "cell_type": "code",
   "execution_count": 1,
   "id": "fba80106",
   "metadata": {},
   "outputs": [],
   "source": [
    "import numpy as np"
   ]
  },
  {
   "cell_type": "code",
   "execution_count": 204,
   "id": "bb2e89a7",
   "metadata": {},
   "outputs": [],
   "source": [
    "data = []\n",
    "with open('input8.txt', 'r') as inf:\n",
    "    for line in inf:\n",
    "        data.append([int(i) for i in line.strip()])\n",
    "forest = np.asarray(data)\n",
    "visible = np.zeros(forest.shape, dtype=int)\n",
    "visible[0] = 1\n",
    "visible[:,0] = 1\n",
    "visible[:,-1] = 1\n",
    "visible[-1] =1\n",
    "scenic = np.ones(forest.shape, dtype=int)"
   ]
  },
  {
   "cell_type": "code",
   "execution_count": 148,
   "id": "9dd3f2e1",
   "metadata": {},
   "outputs": [],
   "source": [
    "def mark_visible(trees, visible):\n",
    "    i = 0\n",
    "    for t,v in np.nditer([trees, visible]):\n",
    "        if v == 0:\n",
    "            if np.all(np.less(trees[0:i], trees[i])) or np.all(np.less(trees[i+1:], trees[i])):\n",
    "                visible[i] = 1\n",
    "        i+=1\n"
   ]
  },
  {
   "cell_type": "code",
   "execution_count": 76,
   "id": "6f31e874",
   "metadata": {},
   "outputs": [
    {
     "name": "stdout",
     "output_type": "stream",
     "text": [
      "1803\n"
     ]
    }
   ],
   "source": [
    "nx, ny = forest.shape\n",
    "for x in range(0, nx):\n",
    "    mark_visible(forest[x], visible[x])\n",
    "\n",
    "for y in range(0, ny):\n",
    "    mark_visible(forest[:,y], visible[:,y])\n",
    "    \n",
    "print(np.sum(visible))"
   ]
  },
  {
   "cell_type": "code",
   "execution_count": 205,
   "id": "c1af2d1c",
   "metadata": {},
   "outputs": [],
   "source": [
    "def scenic_value(trees, scenic):\n",
    "    imax = len(trees)\n",
    "    # print(trees)\n",
    "    for i in range(0, len(trees)):\n",
    "        # print('i', i)\n",
    "        w1 = np.argwhere(trees[0:i] >= trees[i])\n",
    "        if len(w1) > 0:\n",
    "            scenic[i] *= (i - np.max(w1))\n",
    "            # print(1, w1, (i - np.max(w1)))\n",
    "        else: \n",
    "            scenic[i] *= i\n",
    "            # print(2, w1, i)\n",
    "        w2 = np.argwhere(trees[i+1:] >= trees[i])\n",
    "        if len(w2) > 0:\n",
    "            scenic[i] *= (np.min(w2)+1)\n",
    "            # print(3, w2, (np.min(w2)+1))\n",
    "        else: \n",
    "            scenic[i] *= imax-(i+1)\n",
    "            # print(4, w2, imax-(i+1))"
   ]
  },
  {
   "cell_type": "code",
   "execution_count": 206,
   "id": "9e01232c",
   "metadata": {},
   "outputs": [
    {
     "name": "stdout",
     "output_type": "stream",
     "text": [
      "[[ 0  0  0 ...  0  0  0]\n",
      " [ 0  1  1 ...  7  1  0]\n",
      " [ 0  4  8 ...  4  2  0]\n",
      " ...\n",
      " [ 0  1 12 ...  1  2  0]\n",
      " [ 0 25  1 ...  4  1  0]\n",
      " [ 0  0  0 ...  0  0  0]]\n",
      "268912\n"
     ]
    }
   ],
   "source": [
    "nx, ny = forest.shape\n",
    "for x in range(0, nx):\n",
    "    scenic_value(forest[x], scenic[x])\n",
    "\n",
    "for y in range(0, ny):\n",
    "    scenic_value(forest[:,y], scenic[:,y])\n",
    "    \n",
    "print(scenic)\n",
    "print(np.max(scenic))"
   ]
  },
  {
   "cell_type": "code",
   "execution_count": 192,
   "id": "5806a4e5",
   "metadata": {},
   "outputs": [
    {
     "name": "stdout",
     "output_type": "stream",
     "text": [
      "[3 3 5 4 9]\n",
      "i 0\n",
      "2 [] 0\n",
      "3 [[0]\n",
      " [1]\n",
      " [2]\n",
      " [3]] 1\n",
      "i 1\n",
      "1 [[0]] 1\n",
      "3 [[0]\n",
      " [1]\n",
      " [2]] 1\n",
      "i 2\n",
      "2 [] 2\n",
      "3 [[1]] 2\n",
      "i 3\n",
      "1 [[2]] 1\n",
      "3 [[0]] 1\n",
      "i 4\n",
      "2 [] 4\n",
      "4 [] 0\n"
     ]
    }
   ],
   "source": [
    "scenic_value(forest[3], scenic[3])"
   ]
  },
  {
   "cell_type": "code",
   "execution_count": 193,
   "id": "ace64790",
   "metadata": {},
   "outputs": [
    {
     "data": {
      "text/plain": [
       "array([[1, 1, 1, 1, 1],\n",
       "       [1, 1, 1, 1, 1],\n",
       "       [1, 1, 1, 1, 1],\n",
       "       [0, 1, 4, 1, 0],\n",
       "       [1, 1, 1, 1, 1]])"
      ]
     },
     "execution_count": 193,
     "metadata": {},
     "output_type": "execute_result"
    }
   ],
   "source": [
    "scenic"
   ]
  },
  {
   "cell_type": "code",
   "execution_count": 194,
   "id": "1361f05b",
   "metadata": {},
   "outputs": [
    {
     "data": {
      "text/plain": [
       "array([[3, 0, 3, 7, 3],\n",
       "       [2, 5, 5, 1, 2],\n",
       "       [6, 5, 3, 3, 2],\n",
       "       [3, 3, 5, 4, 9],\n",
       "       [3, 5, 3, 9, 0]])"
      ]
     },
     "execution_count": 194,
     "metadata": {},
     "output_type": "execute_result"
    }
   ],
   "source": [
    "forest"
   ]
  },
  {
   "cell_type": "code",
   "execution_count": 188,
   "id": "9d081614",
   "metadata": {},
   "outputs": [
    {
     "data": {
      "text/plain": [
       "array([3, 3, 5, 4, 9])"
      ]
     },
     "execution_count": 188,
     "metadata": {},
     "output_type": "execute_result"
    }
   ],
   "source": [
    "forest[3]"
   ]
  },
  {
   "cell_type": "code",
   "execution_count": null,
   "id": "df490326",
   "metadata": {},
   "outputs": [],
   "source": []
  }
 ],
 "metadata": {
  "kernelspec": {
   "display_name": "Python 3 (ipykernel)",
   "language": "python",
   "name": "python3"
  },
  "language_info": {
   "codemirror_mode": {
    "name": "ipython",
    "version": 3
   },
   "file_extension": ".py",
   "mimetype": "text/x-python",
   "name": "python",
   "nbconvert_exporter": "python",
   "pygments_lexer": "ipython3",
   "version": "3.10.4"
  }
 },
 "nbformat": 4,
 "nbformat_minor": 5
}
