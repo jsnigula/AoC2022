{
 "cells": [
  {
   "cell_type": "code",
   "execution_count": 18,
   "id": "b24e1e8d",
   "metadata": {},
   "outputs": [],
   "source": [
    "valdict = {}\n",
    "for i in range(1,27):\n",
    "    valdict[chr(i+96)] = i\n",
    "    valdict[chr(i+96).upper()] = i+26"
   ]
  },
  {
   "cell_type": "code",
   "execution_count": 21,
   "id": "93896df1",
   "metadata": {},
   "outputs": [
    {
     "name": "stdout",
     "output_type": "stream",
     "text": [
      "Sum: 7553\n"
     ]
    }
   ],
   "source": [
    "sumdups = 0\n",
    "\n",
    "with open('input3.txt') as inf:\n",
    "    for line in inf:\n",
    "        l = int(len(line.strip())/2)\n",
    "        r1 = line[0:l]\n",
    "        r2 = line[l:]\n",
    "        \n",
    "        dups = list(set(r1) & set(r2))\n",
    "        sumdups += sum([valdict[i] for i in dups])\n",
    "        \n",
    "print(f'Sum: {sumdups}')"
   ]
  },
  {
   "cell_type": "code",
   "execution_count": 26,
   "id": "c3f675b1",
   "metadata": {},
   "outputs": [
    {
     "name": "stdout",
     "output_type": "stream",
     "text": [
      "Sum badges: 2758\n"
     ]
    }
   ],
   "source": [
    "sumbadges = 0\n",
    "with open('input3.txt') as inf:\n",
    "    sets = []\n",
    "    for line in inf:\n",
    "        sets.append(set(line.strip()))\n",
    "        if len(sets) == 3:\n",
    "            badge = list(sets[0] & sets[1] & sets[2])\n",
    "            assert len(dups) == 1\n",
    "            sumbadges += valdict[badge[0]]\n",
    "            sets = []\n",
    "            \n",
    "print(f'Sum badges: {sumbadges}')\n",
    "            \n"
   ]
  },
  {
   "cell_type": "code",
   "execution_count": null,
   "id": "ca3a9811",
   "metadata": {},
   "outputs": [],
   "source": []
  }
 ],
 "metadata": {
  "kernelspec": {
   "display_name": "Python 3 (ipykernel)",
   "language": "python",
   "name": "python3"
  },
  "language_info": {
   "codemirror_mode": {
    "name": "ipython",
    "version": 3
   },
   "file_extension": ".py",
   "mimetype": "text/x-python",
   "name": "python",
   "nbconvert_exporter": "python",
   "pygments_lexer": "ipython3",
   "version": "3.10.4"
  }
 },
 "nbformat": 4,
 "nbformat_minor": 5
}
