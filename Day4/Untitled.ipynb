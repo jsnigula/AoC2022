{
 "cells": [
  {
   "cell_type": "code",
   "execution_count": 15,
   "id": "228daa18",
   "metadata": {},
   "outputs": [],
   "source": [
    "assignments = []\n",
    "with open('input4.txt', 'r') as inf:\n",
    "    lines = [l.strip().split(',') for l in inf]\n",
    "\n",
    "for line in lines:\n",
    "    a = []\n",
    "    for i in (0,1):\n",
    "        edges = [int(i) for i in line[i].split('-')]\n",
    "        a.append(list(range(edges[0], edges[1]+1)))\n",
    "    assignments.append(a)"
   ]
  },
  {
   "cell_type": "code",
   "execution_count": 16,
   "id": "267735f9",
   "metadata": {},
   "outputs": [
    {
     "name": "stdout",
     "output_type": "stream",
     "text": [
      "Found 580 full overlaps\n"
     ]
    }
   ],
   "source": [
    "dups = 0\n",
    "for pair in assignments:\n",
    "    ndups = len(list(set(pair[0]) & set(pair[1])))\n",
    "    if ndups == len(pair[0]) or ndups == len(pair[1]):\n",
    "        dups += 1\n",
    "        \n",
    "print(f'Found {dups} full overlaps')"
   ]
  },
  {
   "cell_type": "code",
   "execution_count": 17,
   "id": "e5188698",
   "metadata": {},
   "outputs": [
    {
     "name": "stdout",
     "output_type": "stream",
     "text": [
      "Found 895 overlaps\n"
     ]
    }
   ],
   "source": [
    "dups = 0\n",
    "for pair in assignments:\n",
    "    ndups = len(list(set(pair[0]) & set(pair[1])))\n",
    "    if ndups != 0:\n",
    "        dups += 1\n",
    "        \n",
    "print(f'Found {dups} overlaps')"
   ]
  },
  {
   "cell_type": "code",
   "execution_count": null,
   "id": "cb176b68",
   "metadata": {},
   "outputs": [],
   "source": []
  }
 ],
 "metadata": {
  "kernelspec": {
   "display_name": "Python 3 (ipykernel)",
   "language": "python",
   "name": "python3"
  },
  "language_info": {
   "codemirror_mode": {
    "name": "ipython",
    "version": 3
   },
   "file_extension": ".py",
   "mimetype": "text/x-python",
   "name": "python",
   "nbconvert_exporter": "python",
   "pygments_lexer": "ipython3",
   "version": "3.10.4"
  }
 },
 "nbformat": 4,
 "nbformat_minor": 5
}
