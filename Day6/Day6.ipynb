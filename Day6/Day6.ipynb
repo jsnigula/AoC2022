{
 "cells": [
  {
   "cell_type": "code",
   "execution_count": 25,
   "id": "52197e14",
   "metadata": {},
   "outputs": [],
   "source": [
    "def scan_signal(buffer, marker_len):\n",
    "    i=0\n",
    "    while i < len(buffer)-marker_len:\n",
    "        if len(set(buffer[i:i+marker_len])) == marker_len:\n",
    "            return i+marker_len\n",
    "        i += 1"
   ]
  },
  {
   "cell_type": "code",
   "execution_count": 19,
   "id": "cb4770da",
   "metadata": {},
   "outputs": [],
   "source": [
    "def scan_signal_msg(buffer):\n",
    "    i=0\n",
    "    while i < len(buffer)-14:\n",
    "        if len(set(buffer[i:i+14])) == 14:\n",
    "            return i+14\n",
    "        i += 1"
   ]
  },
  {
   "cell_type": "code",
   "execution_count": 27,
   "id": "6d8cbf94",
   "metadata": {},
   "outputs": [
    {
     "name": "stdout",
     "output_type": "stream",
     "text": [
      "First start of packet marker at 1779\n"
     ]
    }
   ],
   "source": [
    "with open('input6.txt', 'r') as inf:\n",
    "    msg = inf.readline()\n",
    "    \n",
    "print(f'First start of packet marker at {scan_signal(msg, 4)}')"
   ]
  },
  {
   "cell_type": "code",
   "execution_count": null,
   "id": "ac42192b",
   "metadata": {},
   "outputs": [],
   "source": [
    "with open('input6.txt', 'r') as inf:\n",
    "    msg = inf.readline()\n",
    "    \n",
    "print(f'First start of message marker at {scan_signal(msg, 14)}')"
   ]
  },
  {
   "cell_type": "code",
   "execution_count": null,
   "id": "e0ed4684",
   "metadata": {},
   "outputs": [],
   "source": []
  }
 ],
 "metadata": {
  "kernelspec": {
   "display_name": "Python 3 (ipykernel)",
   "language": "python",
   "name": "python3"
  },
  "language_info": {
   "codemirror_mode": {
    "name": "ipython",
    "version": 3
   },
   "file_extension": ".py",
   "mimetype": "text/x-python",
   "name": "python",
   "nbconvert_exporter": "python",
   "pygments_lexer": "ipython3",
   "version": "3.10.4"
  }
 },
 "nbformat": 4,
 "nbformat_minor": 5
}
