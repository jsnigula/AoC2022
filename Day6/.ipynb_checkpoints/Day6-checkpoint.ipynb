{
 "cells": [
  {
   "cell_type": "code",
   "execution_count": 10,
   "id": "d12b23d6",
   "metadata": {},
   "outputs": [],
   "source": [
    "def scan_signal(buffer):\n",
    "    i=0\n",
    "    while i < len(buffer)-4:\n",
    "        if len(set(buffer[i:i+4])) == 4:\n",
    "            return i+4\n",
    "        i += 1"
   ]
  },
  {
   "cell_type": "code",
   "execution_count": 16,
   "id": "0406af37",
   "metadata": {},
   "outputs": [
    {
     "name": "stdout",
     "output_type": "stream",
     "text": [
      "First start of packet marker at 1779\n"
     ]
    }
   ],
   "source": [
    "with open('input6.txt', 'r') as inf:\n",
    "    msg = inf.readline()\n",
    "    \n",
    "print(f'First start of packet marker at {scan_signal(msg)}')"
   ]
  },
  {
   "cell_type": "code",
   "execution_count": null,
   "id": "c007bf84",
   "metadata": {},
   "outputs": [],
   "source": []
  }
 ],
 "metadata": {
  "kernelspec": {
   "display_name": "Python 3 (ipykernel)",
   "language": "python",
   "name": "python3"
  },
  "language_info": {
   "codemirror_mode": {
    "name": "ipython",
    "version": 3
   },
   "file_extension": ".py",
   "mimetype": "text/x-python",
   "name": "python",
   "nbconvert_exporter": "python",
   "pygments_lexer": "ipython3",
   "version": "3.10.4"
  }
 },
 "nbformat": 4,
 "nbformat_minor": 5
}
